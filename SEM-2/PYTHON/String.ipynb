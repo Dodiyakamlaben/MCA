{
 "cells": [
  {
   "cell_type": "markdown",
   "id": "150fa741",
   "metadata": {},
   "source": [
    "# Strings"
   ]
  },
  {
   "cell_type": "code",
   "execution_count": 1,
   "id": "f5577ffa",
   "metadata": {},
   "outputs": [
    {
     "name": "stdout",
     "output_type": "stream",
     "text": [
      "Hello\n",
      "Hello\n"
     ]
    }
   ],
   "source": [
    "#Strings in python are surrounded by either single quotation marks, or double quotation marks.\n",
    "\n",
    "#'hello' is the same as \"hello\".\n",
    "\n",
    "#You can display a string literal with the print() function:\n",
    "\n",
    "#Example\n",
    "print(\"Hello\")\n",
    "print('Hello')"
   ]
  },
  {
   "cell_type": "markdown",
   "id": "f53b4d77",
   "metadata": {},
   "source": [
    "**Assign String to a Variable**"
   ]
  },
  {
   "cell_type": "code",
   "execution_count": 3,
   "id": "d1a87ace",
   "metadata": {},
   "outputs": [
    {
     "name": "stdout",
     "output_type": "stream",
     "text": [
      "Hello\n"
     ]
    }
   ],
   "source": [
    "#Assigning a string to a variable is done with the variable name followed by an equal sign and the string:\n",
    "\n",
    "#Example\n",
    "a = \"Hello\"\n",
    "print(a)"
   ]
  },
  {
   "cell_type": "markdown",
   "id": "921fd881",
   "metadata": {},
   "source": [
    "**Multiline Strings**"
   ]
  },
  {
   "cell_type": "code",
   "execution_count": 10,
   "id": "d1bf75d9",
   "metadata": {},
   "outputs": [
    {
     "name": "stdout",
     "output_type": "stream",
     "text": [
      "Gujarat vidyapith.\n"
     ]
    }
   ],
   "source": [
    "#You can assign a multiline string to a variable by using three quotes:\n",
    "\n",
    "#Example\n",
    "#You can use three double quotes:\n",
    "\n",
    "a = \"\"\"Gujarat vidyapith.\"\"\"\n",
    "print(a)"
   ]
  },
  {
   "cell_type": "code",
   "execution_count": 8,
   "id": "132bdb25",
   "metadata": {},
   "outputs": [
    {
     "name": "stdout",
     "output_type": "stream",
     "text": [
      "Gujarat vidyapith.\n"
     ]
    }
   ],
   "source": [
    "#Or three single quotes:\n",
    "\n",
    "#Example\n",
    "a = '''Gujarat vidyapith.'''\n",
    "print(a)"
   ]
  },
  {
   "cell_type": "markdown",
   "id": "547a5d5e",
   "metadata": {},
   "source": [
    "**Strings are Arrays**"
   ]
  },
  {
   "cell_type": "raw",
   "id": "4f491cf5",
   "metadata": {},
   "source": [
    "Like many other popular programming languages, strings in Python are arrays of bytes representing unicode characters.\n",
    "\n",
    "However, Python does not have a character data type, a single character is simply a string with a length of 1.\n",
    "\n",
    "Square brackets can be used to access elements of the string."
   ]
  },
  {
   "cell_type": "code",
   "execution_count": 12,
   "id": "869aa410",
   "metadata": {},
   "outputs": [
    {
     "name": "stdout",
     "output_type": "stream",
     "text": [
      "e\n"
     ]
    }
   ],
   "source": [
    "#Example\n",
    "#Get the character at position 1 (remember that the first character has the position 0):\n",
    "\n",
    "a = \"Hello, World!\"\n",
    "print(a[1])"
   ]
  },
  {
   "cell_type": "markdown",
   "id": "fe729034",
   "metadata": {},
   "source": [
    "**Looping Through a String**"
   ]
  },
  {
   "cell_type": "markdown",
   "id": "9f177de4",
   "metadata": {},
   "source": [
    "Since strings are arrays, we can loop through the characters in a string, with a for loop."
   ]
  },
  {
   "cell_type": "code",
   "execution_count": 15,
   "id": "161c3532",
   "metadata": {},
   "outputs": [
    {
     "name": "stdout",
     "output_type": "stream",
     "text": [
      "G\n",
      "u\n",
      "j\n",
      "a\n",
      "r\n",
      "a\n",
      "t\n",
      " \n",
      "v\n",
      "i\n",
      "d\n",
      "y\n",
      "a\n",
      "p\n",
      "i\n",
      "t\n",
      "h\n"
     ]
    }
   ],
   "source": [
    "#Example\n",
    "#Loop through the letters in the word \"Gujarat vidyapith\":\n",
    "\n",
    "for x in \"Gujarat vidyapith\":\n",
    "  print(x)"
   ]
  },
  {
   "cell_type": "markdown",
   "id": "5bd029d2",
   "metadata": {},
   "source": [
    "**String Length**"
   ]
  },
  {
   "cell_type": "markdown",
   "id": "201bee0a",
   "metadata": {},
   "source": [
    "To get the length of a string, use the len() function."
   ]
  },
  {
   "cell_type": "code",
   "execution_count": 17,
   "id": "a68b2fbd",
   "metadata": {},
   "outputs": [
    {
     "name": "stdout",
     "output_type": "stream",
     "text": [
      "12\n"
     ]
    }
   ],
   "source": [
    "#Example\n",
    "#The len() function returns the length of a string:\n",
    "\n",
    "a = \"Hello World!\"\n",
    "print(len(a))"
   ]
  },
  {
   "cell_type": "markdown",
   "id": "bf39e5de",
   "metadata": {},
   "source": [
    "**Check String**"
   ]
  },
  {
   "cell_type": "markdown",
   "id": "cedd57d4",
   "metadata": {},
   "source": [
    "To check if a certain phrase or character is present in a string, we can use the keyword in."
   ]
  },
  {
   "cell_type": "code",
   "execution_count": 20,
   "id": "94424599",
   "metadata": {},
   "outputs": [
    {
     "name": "stdout",
     "output_type": "stream",
     "text": [
      "True\n"
     ]
    }
   ],
   "source": [
    "#Example\n",
    "#Check if \"free\" is present in the following text:\n",
    "\n",
    "txt = \"The best things in life are free!\"\n",
    "print(\"free\" in txt)"
   ]
  },
  {
   "cell_type": "markdown",
   "id": "078b704a",
   "metadata": {},
   "source": [
    "Use it in an if statement:"
   ]
  },
  {
   "cell_type": "code",
   "execution_count": 24,
   "id": "8ad80b71",
   "metadata": {},
   "outputs": [
    {
     "name": "stdout",
     "output_type": "stream",
     "text": [
      "Yes, 'free' is present.\n"
     ]
    }
   ],
   "source": [
    "#Example\n",
    "#Print only if \"free\" is present:\n",
    "\n",
    "txt = \"The best things in life are free!\"\n",
    "if \"free\" in txt:\n",
    "  print(\"Yes, 'free' is present.\")"
   ]
  },
  {
   "cell_type": "markdown",
   "id": "e5967324",
   "metadata": {},
   "source": [
    "**Check if NOT**"
   ]
  },
  {
   "cell_type": "markdown",
   "id": "cec9b6a1",
   "metadata": {},
   "source": [
    "To check if a certain phrase or character is NOT present in a string, we can use the keyword not in."
   ]
  },
  {
   "cell_type": "code",
   "execution_count": 26,
   "id": "c13b8078",
   "metadata": {},
   "outputs": [
    {
     "name": "stdout",
     "output_type": "stream",
     "text": [
      "True\n"
     ]
    }
   ],
   "source": [
    "#Example\n",
    "\n",
    "txt = \"The best things in life are free!\"\n",
    "print(\"expensive\" not in txt)"
   ]
  },
  {
   "cell_type": "markdown",
   "id": "22aa6e13",
   "metadata": {},
   "source": [
    "Use it in an if statement:"
   ]
  },
  {
   "cell_type": "code",
   "execution_count": 27,
   "id": "305be048",
   "metadata": {},
   "outputs": [
    {
     "name": "stdout",
     "output_type": "stream",
     "text": [
      "Yes, 'expensive' is NOT present.\n"
     ]
    }
   ],
   "source": [
    "#Example\n",
    "txt = \"The best things in life are free!\"\n",
    "if \"expensive\" not in txt:\n",
    "  print(\"Yes, 'expensive' is NOT present.\")"
   ]
  },
  {
   "cell_type": "markdown",
   "id": "19ba0037",
   "metadata": {},
   "source": [
    "**Slicing**"
   ]
  },
  {
   "cell_type": "markdown",
   "id": "f734cfdd",
   "metadata": {},
   "source": [
    "You can return a range of characters by using the slice syntax.\n",
    "\n",
    "Specify the start index and the end index, separated by a colon, to return a part of the string."
   ]
  },
  {
   "cell_type": "code",
   "execution_count": 28,
   "id": "42128add",
   "metadata": {},
   "outputs": [
    {
     "name": "stdout",
     "output_type": "stream",
     "text": [
      "llo\n"
     ]
    }
   ],
   "source": [
    "#Example\n",
    "#Get the characters from position 2 to position 5 (not included):\n",
    "\n",
    "b = \"Hello, World!\"\n",
    "print(b[2:5])"
   ]
  },
  {
   "cell_type": "code",
   "execution_count": 36,
   "id": "38b79c04",
   "metadata": {},
   "outputs": [
    {
     "name": "stdout",
     "output_type": "stream",
     "text": [
      "!dlroW ,olleH\n"
     ]
    }
   ],
   "source": [
    "b = \"Hello, World!\"\n",
    "print(b[::-1])"
   ]
  },
  {
   "cell_type": "code",
   "execution_count": 37,
   "id": "7e8f8b5e",
   "metadata": {},
   "outputs": [
    {
     "name": "stdout",
     "output_type": "stream",
     "text": [
      "Hello, World!\n"
     ]
    }
   ],
   "source": [
    "b = \"Hello, World!\"\n",
    "print(b[::1])"
   ]
  },
  {
   "cell_type": "markdown",
   "id": "b0754e74",
   "metadata": {},
   "source": [
    "**Slice From the Start**"
   ]
  },
  {
   "cell_type": "code",
   "execution_count": 39,
   "id": "e566606e",
   "metadata": {},
   "outputs": [
    {
     "name": "stdout",
     "output_type": "stream",
     "text": [
      "Hello,\n"
     ]
    }
   ],
   "source": [
    "#Example\n",
    "#Get the characters from the start to position 5 (not included):\n",
    "\n",
    "b = \"Hello, World!\"\n",
    "print(b[:6])"
   ]
  },
  {
   "cell_type": "markdown",
   "id": "7ae8a41e",
   "metadata": {},
   "source": [
    "**Slice To the End**"
   ]
  },
  {
   "cell_type": "code",
   "execution_count": 44,
   "id": "404d959a",
   "metadata": {},
   "outputs": [
    {
     "name": "stdout",
     "output_type": "stream",
     "text": [
      "llo, World!\n"
     ]
    }
   ],
   "source": [
    "#Example\n",
    "#Get the characters from position 2, and all the way to the end:\n",
    "\n",
    "b = \"Hello, World!\"\n",
    "print(b[2:])"
   ]
  },
  {
   "cell_type": "markdown",
   "id": "a0af14f4",
   "metadata": {},
   "source": [
    "**Negative Indexing**"
   ]
  },
  {
   "cell_type": "code",
   "execution_count": 49,
   "id": "34d549e6",
   "metadata": {},
   "outputs": [
    {
     "name": "stdout",
     "output_type": "stream",
     "text": [
      "Worl\n"
     ]
    }
   ],
   "source": [
    "#Example\n",
    "#Get the characters:\n",
    "\n",
    "#From: \"o\" in \"World!\" (position -5)\n",
    "\n",
    "#To, but not included: \"d\" in \"World!\" (position -2):\n",
    "\n",
    "b = \"Hello, World!\"\n",
    "print(b[-6:-2])\n"
   ]
  },
  {
   "cell_type": "markdown",
   "id": "845b15ad",
   "metadata": {},
   "source": [
    "**Upper Case**"
   ]
  },
  {
   "cell_type": "code",
   "execution_count": 54,
   "id": "571ec853",
   "metadata": {},
   "outputs": [
    {
     "name": "stdout",
     "output_type": "stream",
     "text": [
      "GUJARAT VIDYAPITH\n"
     ]
    }
   ],
   "source": [
    "\n",
    "#Example\n",
    "\n",
    "a = \"Gujarat Vidyapith\"\n",
    "print(a.upper())"
   ]
  },
  {
   "cell_type": "markdown",
   "id": "382acaa5",
   "metadata": {},
   "source": [
    "**Lower Case**"
   ]
  },
  {
   "cell_type": "code",
   "execution_count": 53,
   "id": "52ca22d4",
   "metadata": {},
   "outputs": [
    {
     "name": "stdout",
     "output_type": "stream",
     "text": [
      "gujarat vidyapith\n"
     ]
    }
   ],
   "source": [
    "a = \"Gujarat Vidyapith\"\n",
    "print(a.lower())"
   ]
  },
  {
   "cell_type": "markdown",
   "id": "c8876f54",
   "metadata": {},
   "source": [
    "**Remove Whitespace**"
   ]
  },
  {
   "cell_type": "markdown",
   "id": "9ac6ca35",
   "metadata": {},
   "source": [
    "Whitespace is the space before and/or after the actual text, and very often you want to remove this space."
   ]
  },
  {
   "cell_type": "code",
   "execution_count": 56,
   "id": "c30966aa",
   "metadata": {},
   "outputs": [
    {
     "name": "stdout",
     "output_type": "stream",
     "text": [
      "Gujarat vidyapith\n"
     ]
    }
   ],
   "source": [
    "#Example\n",
    "#The strip() method removes any whitespace from the beginning or the end:\n",
    "\n",
    "a = \"  Gujarat vidyapith  \"\n",
    "print(a.strip()) # returns \"Hello, World!\""
   ]
  },
  {
   "cell_type": "markdown",
   "id": "a5d92d4b",
   "metadata": {},
   "source": [
    "**Replace String**"
   ]
  },
  {
   "cell_type": "code",
   "execution_count": 58,
   "id": "006213c9",
   "metadata": {},
   "outputs": [
    {
     "name": "stdout",
     "output_type": "stream",
     "text": [
      "Kello, World!\n"
     ]
    }
   ],
   "source": [
    "a = \"Hello, World!\"\n",
    "print(a.replace(\"H\", \"K\"))"
   ]
  },
  {
   "cell_type": "markdown",
   "id": "09eae2e6",
   "metadata": {},
   "source": [
    "**Split String**"
   ]
  },
  {
   "cell_type": "markdown",
   "id": "f31a687f",
   "metadata": {},
   "source": [
    "The split() method returns a list where the text between the specified separator becomes the list items."
   ]
  },
  {
   "cell_type": "code",
   "execution_count": 61,
   "id": "89715991",
   "metadata": {},
   "outputs": [
    {
     "name": "stdout",
     "output_type": "stream",
     "text": [
      "['Hello', ' World!']\n"
     ]
    }
   ],
   "source": [
    "a = \"Hello, World!\"\n",
    "print(a.split(\",\")) # returns ['Hello', ' World!']"
   ]
  },
  {
   "cell_type": "markdown",
   "id": "e56719f2",
   "metadata": {},
   "source": [
    "**String Concatenation**"
   ]
  },
  {
   "cell_type": "markdown",
   "id": "1e29d449",
   "metadata": {},
   "source": [
    "To concatenate, or combine, two strings you can use the + operator."
   ]
  },
  {
   "cell_type": "code",
   "execution_count": 65,
   "id": "d58ee2cf",
   "metadata": {},
   "outputs": [
    {
     "name": "stdout",
     "output_type": "stream",
     "text": [
      "HelloWorld\n"
     ]
    }
   ],
   "source": [
    "#Example\n",
    "#Merge variable a with variable b into variable c:\n",
    "\n",
    "a = \"Hello\"\n",
    "b = \"World\"\n",
    "c = a + b\n",
    "print(c)"
   ]
  },
  {
   "cell_type": "code",
   "execution_count": 64,
   "id": "43ae1b5f",
   "metadata": {},
   "outputs": [
    {
     "name": "stdout",
     "output_type": "stream",
     "text": [
      "Hello World\n"
     ]
    }
   ],
   "source": [
    "#Example\n",
    "#To add a space between them, add a \" \":\n",
    "\n",
    "a = \"Hello\"\n",
    "b = \"World\"\n",
    "c = a + \" \" + b\n",
    "print(c)\n"
   ]
  },
  {
   "cell_type": "markdown",
   "id": "5e5e3401",
   "metadata": {},
   "source": [
    "**String Format**"
   ]
  },
  {
   "cell_type": "markdown",
   "id": "66d20537",
   "metadata": {},
   "source": [
    "The format() method takes the passed arguments, formats them, and places them in the string where the placeholders {} are:"
   ]
  },
  {
   "cell_type": "code",
   "execution_count": 66,
   "id": "1655bc4a",
   "metadata": {},
   "outputs": [
    {
     "name": "stdout",
     "output_type": "stream",
     "text": [
      "My name is John, and I am 36\n"
     ]
    }
   ],
   "source": [
    "#Example\n",
    "#Use the format() method to insert numbers into strings:\n",
    "\n",
    "age = 36\n",
    "txt = \"My name is John, and I am {}\"\n",
    "print(txt.format(age))"
   ]
  },
  {
   "cell_type": "code",
   "execution_count": 67,
   "id": "eb5a815a",
   "metadata": {},
   "outputs": [
    {
     "name": "stdout",
     "output_type": "stream",
     "text": [
      "I want 3 pieces of item 567 for 49.95 dollars.\n"
     ]
    }
   ],
   "source": [
    "quantity = 3\n",
    "itemno = 567\n",
    "price = 49.95\n",
    "myorder = \"I want {} pieces of item {} for {} dollars.\"\n",
    "print(myorder.format(quantity, itemno, price))"
   ]
  },
  {
   "cell_type": "markdown",
   "id": "8d59ae46",
   "metadata": {},
   "source": [
    "**Escape Characters**"
   ]
  },
  {
   "cell_type": "code",
   "execution_count": 68,
   "id": "71b216b1",
   "metadata": {},
   "outputs": [
    {
     "name": "stdout",
     "output_type": "stream",
     "text": [
      "It's alright.\n"
     ]
    }
   ],
   "source": [
    "#\\'    Single Quote\n",
    "txt = 'It\\'s alright.'\n",
    "print(txt) "
   ]
  },
  {
   "cell_type": "code",
   "execution_count": 69,
   "id": "503dd8e7",
   "metadata": {},
   "outputs": [
    {
     "name": "stdout",
     "output_type": "stream",
     "text": [
      "This will insert one \\ (backslash).\n"
     ]
    }
   ],
   "source": [
    "#\\\\   Backslash\n",
    "txt = \"This will insert one \\\\ (backslash).\"\n",
    "print(txt)"
   ]
  },
  {
   "cell_type": "code",
   "execution_count": 71,
   "id": "07533668",
   "metadata": {},
   "outputs": [
    {
     "name": "stdout",
     "output_type": "stream",
     "text": [
      "Gujarat\n",
      "vidyapith!\n"
     ]
    }
   ],
   "source": [
    "#new line\n",
    "txt = \"Gujarat\\nvidyapith!\"\n",
    "print(txt)"
   ]
  },
  {
   "cell_type": "code",
   "execution_count": 72,
   "id": "53f97f78",
   "metadata": {},
   "outputs": [
    {
     "name": "stdout",
     "output_type": "stream",
     "text": [
      "Hello\r",
      "World!\n"
     ]
    }
   ],
   "source": [
    "#\\r  Carriage Return\n",
    "txt = \"Hello\\rWorld!\"\n",
    "print(txt)"
   ]
  },
  {
   "cell_type": "code",
   "execution_count": 73,
   "id": "0ab085ac",
   "metadata": {},
   "outputs": [
    {
     "name": "stdout",
     "output_type": "stream",
     "text": [
      "Hello\tWorld!\n"
     ]
    }
   ],
   "source": [
    "#\\t  Tab\n",
    "txt = \"Hello\\tWorld!\"\n",
    "print(txt)"
   ]
  },
  {
   "cell_type": "code",
   "execution_count": 74,
   "id": "580b0cfb",
   "metadata": {},
   "outputs": [
    {
     "name": "stdout",
     "output_type": "stream",
     "text": [
      "Gujarat \bvidyapith!\n"
     ]
    }
   ],
   "source": [
    "#\\b  Backspace\n",
    "#This example erases one character (backspace):\n",
    "txt = \"Gujarat \\bvidyapith!\"\n",
    "print(txt)"
   ]
  },
  {
   "cell_type": "code",
   "execution_count": 75,
   "id": "9b03f5fa",
   "metadata": {},
   "outputs": [
    {
     "name": "stdout",
     "output_type": "stream",
     "text": [
      "Hello\n"
     ]
    }
   ],
   "source": [
    "#\\ooo   Octal value\n",
    "#A backslash followed by three integers will result in a octal value:\n",
    "txt = \"\\110\\145\\154\\154\\157\"\n",
    "print(txt) "
   ]
  },
  {
   "cell_type": "code",
   "execution_count": 76,
   "id": "0488b53a",
   "metadata": {},
   "outputs": [
    {
     "name": "stdout",
     "output_type": "stream",
     "text": [
      "Hello\n"
     ]
    }
   ],
   "source": [
    "#\\xhh    Hex value\n",
    "#A backslash followed by an 'x' and a hex number represents a hex value:\n",
    "txt = \"\\x48\\x65\\x6c\\x6c\\x6f\"\n",
    "print(txt) "
   ]
  },
  {
   "cell_type": "markdown",
   "id": "d3b9413f",
   "metadata": {},
   "source": [
    "# String Methods"
   ]
  },
  {
   "cell_type": "raw",
   "id": "93e8ea8a",
   "metadata": {},
   "source": [
    "# Method\t                                        Description\n",
    "capitalize()\t                       Converts the first character to upper case\n",
    "casefold()\t                           Converts string into lower case\n",
    "center()\t                           Returns a centered string\n",
    "count()\t                               Returns the number of times a specified value occurs in a string\n",
    "encode()\t                           Returns an encoded version of the string\n",
    "endswith()\t                           Returns true if the string ends with the specified value\n",
    "expandtabs()\t                       Sets the tab size of the string\n",
    "find()\t                               Searches the string for a specified value and returns the position of where it was found\n",
    "format()\t                           Formats specified values in a string\n",
    "format_map()\t                       Formats specified values in a string\n",
    "index()\t                               Searches the string for a specified value and returns the position of where it was found\n",
    "isalnum()\t                           Returns True if all characters in the string are alphanumeric\n",
    "isalpha()\t                           Returns True if all characters in the string are in the alphabet\n",
    "isdecimal()\t                           Returns True if all characters in the string are decimals\n",
    "isdigit()\t                           Returns True if all characters in the string are digits\n",
    "isidentifier()\t                       Returns True if the string is an identifier\n",
    "islower()\t                           Returns True if all characters in the string are lower case\n",
    "isnumeric()\t                           Returns True if all characters in the string are numeric\n",
    "isprintable()\t                       Returns True if all characters in the string are printable\n",
    "isspace()\t                           Returns True if all characters in the string are whitespaces\n",
    "istitle()\t                           Returns True if the string follows the rules of a title\n",
    "isupper()\t                           Returns True if all characters in the string are upper case\n",
    "join()\t                               Joins the elements of an iterable to the end of the string\n",
    "ljust()                                Returns a left justified version of the string\n",
    "lower()\t                               Converts a string into lower case\n",
    "lstrip()\t                           Returns a left trim version of the string\n",
    "maketrans()\t                           Returns a translation table to be used in translations\n",
    "partition()\t                           Returns a tuple where the string is parted into three parts\n",
    "replace()\t                           Returns a string where a specified value is replaced with a specified value\n",
    "rfind()\t                           Searches the string for a specified value and returns the last position of where it was found\n",
    "\n",
    "rindex()\t                      Searches the string for a specified value and returns the last position of where it was found\n",
    "rjust()\t                               Returns a right justified version of the string\n",
    "rpartition()\t                       Returns a tuple where the string is parted into three parts\n",
    "rsplit()\t                           Splits the string at the specified separator, and returns a list\n",
    "rstrip()\t                           Returns a right trim version of the string\n",
    "split()\t                               Splits the string at the specified separator, and returns a list\n",
    "splitlines()\t                       Splits the string at line breaks and returns a list\n",
    "startswith()\tReturns true if the string starts with the specified value\n",
    "strip()\tReturns a trimmed version of the string\n",
    "swapcase()\tSwaps cases, lower case becomes upper case and vice versa\n",
    "title()\tConverts the first character of each word to upper case\n",
    "translate()\tReturns a translated string\n",
    "upper()\tConverts a string into upper case\n",
    "zfill()\tFills the string with a specified number of 0 values at the beginning"
   ]
  },
  {
   "cell_type": "code",
   "execution_count": null,
   "id": "97bfb67c",
   "metadata": {},
   "outputs": [],
   "source": []
  }
 ],
 "metadata": {
  "kernelspec": {
   "display_name": "Python 3",
   "language": "python",
   "name": "python3"
  },
  "language_info": {
   "codemirror_mode": {
    "name": "ipython",
    "version": 3
   },
   "file_extension": ".py",
   "mimetype": "text/x-python",
   "name": "python",
   "nbconvert_exporter": "python",
   "pygments_lexer": "ipython3",
   "version": "3.9.5"
  }
 },
 "nbformat": 4,
 "nbformat_minor": 5
}
